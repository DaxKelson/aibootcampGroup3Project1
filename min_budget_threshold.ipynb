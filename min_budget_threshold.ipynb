{
 "cells": [
  {
   "cell_type": "markdown",
   "metadata": {},
   "source": [
    "Figure out what minimum budget you need to get a movie with the best chances of success\n",
    "Group everything by year\n",
    "add column with percentage of movie budget vs budget for movies that year\n",
    "add column with percentage of movie grossing worldwide vs grossing worldwide for movies that year\n",
    "add column that does a ratio for percent budget and percent grossing. budget % / grossing %. sort lowest to greatest to get movies that did the best with lower budgets.\n",
    "\n",
    "Take buckets to see what percentage of movies did well with different buckets of budget amounts"
   ]
  },
  {
   "cell_type": "code",
   "execution_count": 76,
   "metadata": {},
   "outputs": [],
   "source": [
    "#Imports\n",
    "import pandas as pd\n",
    "import re\n",
    "import numpy as np\n",
    "import matplotlib.pyplot as plt\n",
    "\n"
   ]
  },
  {
   "cell_type": "code",
   "execution_count": 66,
   "metadata": {},
   "outputs": [],
   "source": [
    "#prepare and save cleaned data csv\n",
    "%run clean_data.py"
   ]
  },
  {
   "cell_type": "markdown",
   "metadata": {},
   "source": [
    "Read in Dataframe and analyze data types and info about structure"
   ]
  },
  {
   "cell_type": "code",
   "execution_count": 67,
   "metadata": {},
   "outputs": [],
   "source": [
    "#Read in the data\n",
    "imdb_all_years_df = pd.read_csv(\"./Resources/cleaned_data.csv\")\n",
    "# imdb_all_years_df.info()\n",
    "# imdb_all_years_df.head()\n",
    "\n",
    "#Examples of searching for values\n",
    "#drop rows where the country of origin list does not contain South Korea\n",
    "# imdb_south_japan_df = imdb_all_years_df.query(\"countries_origin.str.contains('Japan')\", engine='python')\n",
    "\n",
    "# #drop rows where the country of origin list does not contain South Korea using loc function\n",
    "# imdb_south_korea_df = imdb_all_years_df.loc[imdb_all_years_df['countries_origin'].str.contains('Canada', na=False)]\n",
    "\n",
    "# # imdb_south_japan_df.dropna()"
   ]
  },
  {
   "cell_type": "markdown",
   "metadata": {},
   "source": [
    "Clean Up Data"
   ]
  },
  {
   "cell_type": "code",
   "execution_count": null,
   "metadata": {},
   "outputs": [],
   "source": [
    "#replace NaN with 0\n",
    "# imdb_all_years_df = imdb_all_years_df.fillna(1)\n",
    "# imdb_all_years_df = imdb_all_years_df.dropna(how=\"any\")\n",
    "\n",
    "#drop all rows that have nan for budget column\n",
    "budget_df = imdb_all_years_df.dropna(subset=['budget'])\n",
    "budget_df.info()"
   ]
  },
  {
   "cell_type": "code",
   "execution_count": null,
   "metadata": {},
   "outputs": [],
   "source": [
    "imdb_all_years_df.dtypes"
   ]
  },
  {
   "cell_type": "code",
   "execution_count": null,
   "metadata": {},
   "outputs": [],
   "source": [
    "#sort values by year\n",
    "imbd_all_years_df = imdb_all_years_df.sort_values(by='Year')\n",
    "imbd_all_years_df['budget'].dropna(inplace=True)\n",
    "imbd_all_years_df['Year'].dropna(inplace=True)\n",
    "imbd_all_years_df['Title'].dropna(inplace=True)\n",
    "imbd_all_years_df['Year'] = pd.to_numeric(imbd_all_years_df['Year'], errors='coerce')  # Convert to numeric, setting errors as NaN\n",
    "imbd_all_years_df['Budget'] = pd.to_numeric(imbd_all_years_df['budget'], errors='coerce')  # Same for Budget\n",
    "imbd_all_years_df\n",
    "# Scatter plot\n",
    "plt.figure(figsize=(10, 6))\n",
    "plt.scatter(imbd_all_years_df['Year'], imbd_all_years_df['budget'], color='blue')\n",
    "\n",
    "# Annotate each point with the movie title\n",
    "# for i, row in imbd_all_years_df.iterrows():\n",
    "#     plt.text(row['Year'], row['budget'], row['Title'], fontsize=9, ha='right')\n",
    "\n",
    "plt.xlabel(\"Year\")\n",
    "plt.ylabel(\"Budget (in hundred millions)\")\n",
    "plt.title(\"Movie Budgets Over the Years\")\n",
    "plt.grid(True)\n",
    "plt.show()"
   ]
  },
  {
   "cell_type": "markdown",
   "metadata": {},
   "source": [
    "Group and graph data showing worldwide gross of movies over time"
   ]
  },
  {
   "cell_type": "code",
   "execution_count": null,
   "metadata": {},
   "outputs": [],
   "source": [
    "# Scatter plot\n",
    "plt.figure(figsize=(10, 6))\n",
    "plt.scatter(imbd_all_years_df['Year'], imbd_all_years_df['grossWorldWide'], color='blue')\n",
    "\n",
    "# Annotate each point with the movie title\n",
    "# for i, row in imbd_all_years_df.iterrows():\n",
    "#     plt.text(row['Year'], row['budget'], row['Title'], fontsize=9, ha='right')\n",
    "\n",
    "plt.xlabel(\"Year\")\n",
    "plt.ylabel(\"Budget (in billions)\")\n",
    "plt.title(\"Gross Worldwide Budgets Over the Years\")\n",
    "plt.grid(True)\n",
    "plt.show()"
   ]
  },
  {
   "cell_type": "code",
   "execution_count": null,
   "metadata": {},
   "outputs": [],
   "source": [
    "#Plot a bar graph with the year on the x-axis and the gross US on the y-axis\n",
    "plt.figure(figsize=(10, 6))\n",
    "plt.scatter(imbd_all_years_df['Year'], imbd_all_years_df['gross_US_Canada'], color='blue')\n",
    "\n",
    "# Annotate each point with the movie title\n",
    "# for i, row in imbd_all_years_df.iterrows():\n",
    "#     plt.text(row['Year'], row['budget'], row['Title'], fontsize=9, ha='right')\n",
    "\n",
    "plt.xlabel(\"Year\")\n",
    "plt.ylabel(\"Budget (in hundred millions)\")\n",
    "plt.title(\"Gross US Canada Budgets Over the Years\")\n",
    "plt.grid(True)\n",
    "plt.show()"
   ]
  },
  {
   "cell_type": "code",
   "execution_count": null,
   "metadata": {},
   "outputs": [],
   "source": []
  },
  {
   "cell_type": "code",
   "execution_count": null,
   "metadata": {},
   "outputs": [],
   "source": [
    "#Add new column for profit\n",
    "imdb_all_years_df['Profit'] =  imdb_all_years_df['grossWorldWide'] - imdb_all_years_df['budget']\n",
    "#Add new column for profit margin\n",
    "imdb_all_years_df['Profit Margin'] = imdb_all_years_df['Profit'] / imdb_all_years_df['budget']\n",
    "#add new column for ratio of budget to grossWorldWide\n",
    "imdb_all_years_df['Budget to Gross Ratio'] = imdb_all_years_df['budget'] / imdb_all_years_df['grossWorldWide']\n",
    "\n",
    "imdb_all_years_df['Profit']"
   ]
  },
  {
   "cell_type": "code",
   "execution_count": null,
   "metadata": {},
   "outputs": [],
   "source": [
    "bins = np.array([-300000, 0, 100000, 100000000, 500000000])  # Use y values to define colors\n",
    "bin_colors = ['red', 'blue', 'green', 'purple', 'orange'] \n",
    "budget = imbd_all_years_df['budget']\n",
    "# Assign each y value to a bin\n",
    "bin_indices = np.digitize(imbd_all_years_df['grossWorldWide'], bins) - 1  # Get bin index for each y value\n",
    "bin_indices = np.clip(bin_indices, 0, len(bin_colors) - 1)  # Ensure indices are valid\n",
    "\n",
    "# Normalize budget values for coloring\n",
    "norm = plt.Normalize(vmin=min(budget), vmax=max(budget))\n",
    "colormap = plt.cm.coolwarm  # Choose a colormap (e.g., 'plasma', 'coolwarm')\n",
    "\n",
    "# Map bin indices to colors\n",
    "colors = [bin_colors[i] for i in bin_indices]\n",
    "\n",
    "#Plot a bar graph with the year on the x-axis and the gross US on the y-axis\n",
    "plt.figure(figsize=(10, 6))\n",
    "plt.scatter(imbd_all_years_df['Year'], imbd_all_years_df['Profit'], c=budget, cmap=colormap, norm=norm)\n",
    "plt.colorbar()  # Optional: Show color legend\n",
    "\n",
    "# Annotate each point with the movie title\n",
    "# for i, row in imbd_all_years_df.iterrows():\n",
    "#     plt.(row['Year'], row['Profit'], row['Title'], fontsize=9, ha='right',)\n",
    "\n",
    "plt.xlabel(\"Year\")\n",
    "plt.ylabel(\"Profit (in Billions)\")\n",
    "plt.title(\"Worldwide Profit Over the Years\")\n",
    "plt.grid(True)\n",
    "plt.show()"
   ]
  },
  {
   "cell_type": "code",
   "execution_count": 25,
   "metadata": {},
   "outputs": [],
   "source": [
    "\n",
    "\n",
    "bins = np.array([-300000, 0, 100000, 100000000, 500000000])  # Use y values to define colors\n",
    "bin_colors = ['red', 'blue', 'green', 'purple', 'orange'] \n",
    "budget = imdb_all_years_df['budget']\n",
    "# Assign each y value to a bin\n",
    "bin_indices = np.digitize(imdb_all_years_df['grossWorldWide'], bins) - 1  # Get bin index for each y value\n",
    "bin_indices = np.clip(bin_indices, 0, len(bin_colors) - 1)  # Ensure indices are valid\n",
    "\n",
    "# Normalize budget values for coloring\n",
    "norm = plt.Normalize(vmin=min(budget), vmax=max(budget))\n",
    "colormap = plt.cm.coolwarm  # Choose a colormap (e.g., 'plasma', 'coolwarm')\n",
    "\n",
    "# Map bin indices to colors\n",
    "colors = [bin_colors[i] for i in bin_indices]\n",
    "\n",
    "#Plot a bar graph with the year on the x-axis and the gross US on the y-axis\n",
    "plt.figure(figsize=(10, 6))\n",
    "plt.scatter(imdb_all_years_df['Year'], imdb_all_years_df['Profit'], c=budget, cmap=colormap, norm=norm)\n",
    "plt.colorbar()  # Optional: Show color legend\n",
    "\n",
    "# Annotate each point with the movie title\n",
    "# for i, row in imbd_all_years_df.iterrows():\n",
    "#     plt.(row['Year'], row['Profit'], row['Title'], fontsize=9, ha='right',)\n",
    "\n",
    "plt.xlabel(\"Year\")\n",
    "plt.ylabel(\"Profit (in Billions)\")\n",
    "plt.title(\"Worldwide Profit Over the Years for movies profiting over 5 mil\")\n",
    "plt.grid(True)\n",
    "plt.show()"
   ]
  },
  {
   "cell_type": "code",
   "execution_count": null,
   "metadata": {},
   "outputs": [],
   "source": [
    "\n",
    "\n",
    "# #Plot a bar graph with the year on the x-axis and the budget to grossworldwide on the y-axis\n",
    "# plt.title(\"Average Budget/GrossWorldWide by Year\")\n",
    "# plt.xlabel('Year')\n",
    "# plt.ylabel('Avg. Budget/GrossWorldWide')\n",
    "# plt.bar(imdb_all_years_df['Year'], imdb_all_years_df['Budget to Gross Ratio'])"
   ]
  },
  {
   "cell_type": "code",
   "execution_count": null,
   "metadata": {},
   "outputs": [],
   "source": [
    "#Its Clear from the above graph that movies on average dont make much money until recently.\n",
    "# imdb_all_years_df.sort_values(by='Budget to Gross Ratio', ascending=True)"
   ]
  }
 ],
 "metadata": {
  "kernelspec": {
   "display_name": "dev",
   "language": "python",
   "name": "python3"
  },
  "language_info": {
   "codemirror_mode": {
    "name": "ipython",
    "version": 3
   },
   "file_extension": ".py",
   "mimetype": "text/x-python",
   "name": "python",
   "nbconvert_exporter": "python",
   "pygments_lexer": "ipython3",
   "version": "3.10.16"
  }
 },
 "nbformat": 4,
 "nbformat_minor": 2
}
