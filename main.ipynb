{
 "cells": [
  {
   "cell_type": "markdown",
   "metadata": {},
   "source": []
  },
  {
   "cell_type": "code",
   "execution_count": null,
   "metadata": {
    "vscode": {
     "languageId": "plaintext"
    }
   },
   "outputs": [],
   "source": [
    "# Clean Votes column:\n",
    "# convert numbers like 9.1K to 9100 and numbers like 9.1M to 9100000\n",
    "# for i in range(0, imdb_all_years_df['Votes'].count()):  \n",
    "#     if(imdb_all_years_df['Votes'].iloc[i] != 0):\n",
    "#         if(imdb_all_years_df['Votes'].iloc[i][-1] == 'K'):\n",
    "#             imdb_all_years_df.loc[i, 'Votes'] = float(imdb_all_years_df['Votes'].iloc[i][:-1]) * 1000\n",
    "#         elif(imdb_all_years_df['Votes'].iloc[i][-1] == 'M'):\n",
    "#             imdb_all_years_df.loc[i, 'Votes'] = float(imdb_all_years_df['Votes'].iloc[i][:-1]) * 1000000\n",
    "#         else:\n",
    "#             imdb_all_years_df.loc[i, 'Votes'] = float(imdb_all_years_df['Votes'].iloc[i])\n",
    "# imdb_all_years_df['Votes']\n",
    "\n",
    "import requests\n",
    "import pandas as pd\n",
    "\n",
    "def adjust_for_inflation(value_in_dollars, base_year, target_year, inflation_data=None):\n",
    "    base_cpi = inflation_data[base_year]\n",
    "    target_cpi = inflation_data[target_year]\n",
    "\n",
    "    adjusted_income = value_in_dollars * (target_cpi / base_cpi)\n",
    "    return adjusted_income\n",
    "\n",
    "# Example usage\n",
    "if __name__ == \"__main__\":\n",
    "    cpi_data = pd.read_csv('./Resources/US_inflation_rates.csv')\n",
    "    \n",
    "    income_2000 = 50000  # $50,000 in the year 2000\n",
    "    adjusted_income_2025 = adjust_for_inflation(income_2000, 2000, 2025, cpi_data)\n",
    "    print(f\"$50,000 in 2000 is equivalent to ${adjusted_income_2025:.2f} in 2025.\")\n"
   ]
  }
 ],
 "metadata": {
  "language_info": {
   "name": "python"
  }
 },
 "nbformat": 4,
 "nbformat_minor": 2
}
