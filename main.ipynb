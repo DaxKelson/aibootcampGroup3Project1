{
 "cells": [
  {
   "cell_type": "markdown",
   "metadata": {},
   "source": []
  },
  {
   "cell_type": "code",
   "execution_count": 11,
   "metadata": {},
   "outputs": [],
   "source": [
    "%run clean_data.py"
   ]
  },
  {
   "cell_type": "code",
   "execution_count": 19,
   "metadata": {},
   "outputs": [
    {
     "name": "stdout",
     "output_type": "stream",
     "text": [
      "$50,000 in 2000 is equivalent to $510969.80 in 2025.\n"
     ]
    }
   ],
   "source": [
    "# Clean Votes column:\n",
    "# convert numbers like 9.1K to 9100 and numbers like 9.1M to 9100000\n",
    "# for i in range(0, imdb_all_years_df['Votes'].count()):  \n",
    "#     if(imdb_all_years_df['Votes'].iloc[i] != 0):\n",
    "#         if(imdb_all_years_df['Votes'].iloc[i][-1] == 'K'):\n",
    "#             imdb_all_years_df.loc[i, 'Votes'] = float(imdb_all_years_df['Votes'].iloc[i][:-1]) * 1000\n",
    "#         elif(imdb_all_years_df['Votes'].iloc[i][-1] == 'M'):\n",
    "#             imdb_all_years_df.loc[i, 'Votes'] = float(imdb_all_years_df['Votes'].iloc[i][:-1]) * 1000000\n",
    "#         else:\n",
    "#             imdb_all_years_df.loc[i, 'Votes'] = float(imdb_all_years_df['Votes'].iloc[i])\n",
    "# imdb_all_years_df['Votes']\n",
    "\n",
    "import requests\n",
    "import pandas as pd\n",
    "\n",
    "def adjust_for_inflation(value_in_dollars, base_year, target_year, inflation_data=None):\n",
    "    base_cpi = inflation_data[base_year]\n",
    "    target_cpi = inflation_data[target_year]\n",
    "\n",
    "    adjusted_income = value_in_dollars * (target_cpi / base_cpi)\n",
    "    return adjusted_income\n",
    "\n",
    "cpi_data = pd.read_csv('./Resources/US_inflation_rates.csv')\n",
    "cpi_data.date = pd.to_datetime(cpi_data.date, format='%Y-%m-%d')\n",
    "cpi_data = cpi_data.groupby(cpi_data.date.dt.year).mean()\n",
    "\n",
    "cpi_data = cpi_data['value'].to_dict()\n",
    "cpi_data\n",
    "income_1960 = 50000  # $50,000 in the year 2000\n",
    "adjusted_income_2025 = adjust_for_inflation(income_1960, 1960, 2023, cpi_data)\n",
    "print(f\"$50,000 in 1960 is equivalent to ${adjusted_income_2025:.2f} in 2025.\")\n"
   ]
  }
 ],
 "metadata": {
  "kernelspec": {
   "display_name": "dev",
   "language": "python",
   "name": "python3"
  },
  "language_info": {
   "codemirror_mode": {
    "name": "ipython",
    "version": 3
   },
   "file_extension": ".py",
   "mimetype": "text/x-python",
   "name": "python",
   "nbconvert_exporter": "python",
   "pygments_lexer": "ipython3",
   "version": "3.10.16"
  }
 },
 "nbformat": 4,
 "nbformat_minor": 2
}
